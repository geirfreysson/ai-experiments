{
 "cells": [
  {
   "cell_type": "raw",
   "id": "6d994c2e",
   "metadata": {
    "vscode": {
     "languageId": "raw"
    }
   },
   "source": [
    "---\n",
    "title: \"Exploring Amazon's Kiro and saying goodbye to Windsurf\"\n",
    "date: \"2025-07-17\"\n",
    "publish: false\n",
    "draft: true\n",
    "abstract: hello\n",
    "callout-appearance: simple\n",
    "categories: [claude]\n",
    "---\n"
   ]
  },
  {
   "cell_type": "markdown",
   "id": "3e4c9188",
   "metadata": {},
   "source": [
    "The first AI agentic editor I fell in love with was [Windsurf](https://windsurf.com/). In March this year I punched in the long sequence of numbers on my credit card and took the plunge.\n",
    "\n",
    "In April I went crazy with it and saw a huge productivity boost. It was not great at authentication and it sometimes failed to solve problems that spanned multiple files and had complex logic, but overall it was a blast.\n",
    "\n",
    "![Screenshot of my Windsurf usage stats from my account area on Windsurf.com](Screenshot 2025-07-17 at 00.36.22.png) \n",
    "\n",
    "Then I started to notice the buzz around Claude 4."
   ]
  },
  {
   "cell_type": "markdown",
   "id": "3f7554de",
   "metadata": {},
   "source": [
    "Amazon released a new Code Editor called Kiro last Tuesday. "
   ]
  },
  {
   "cell_type": "markdown",
   "id": "7ea70929",
   "metadata": {},
   "source": []
  }
 ],
 "metadata": {
  "language_info": {
   "name": "python"
  }
 },
 "nbformat": 4,
 "nbformat_minor": 5
}
