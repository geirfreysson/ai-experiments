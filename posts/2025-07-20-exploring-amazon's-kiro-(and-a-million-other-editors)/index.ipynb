{
 "cells": [
  {
   "cell_type": "raw",
   "id": "6d994c2e",
   "metadata": {
    "vscode": {
     "languageId": "raw"
    }
   },
   "source": [
    "---\n",
    "title: \"Testing the New Wave of AI Coding Editors\"\n",
    "date: \"2025-07-17\"\n",
    "abstract: \"I've spent the past few months working with Windsurf, Claude Code, and Amazon's new Kiro editor. Each takes a different approach to agentic coding, from free‑form experimentation to structured planning. Here's what stood out - and which one I'm using now.\"\n",
    "publish: true\n",
    "draft: false\n",
    "callout-appearance: simple\n",
    "categories: [claude]\n",
    "---\n"
   ]
  },
  {
   "cell_type": "markdown",
   "id": "3e4c9188",
   "metadata": {},
   "source": [
    "The first AI agentic editor I fell in love with was [Windsurf](https://windsurf.com/). Back in March, I typed in the long string of numbers from my credit card and took the plunge.  \n",
    "\n",
    "In April, I went all in. My productivity shot up. It wasn’t perfect - sometimes it hit problems it couldn’t solve - but overall it was a blast.  \n",
    "\n",
    "But lately, that first robot love is fading.\n",
    "\n",
    "![Screenshot of my Windsurf usage stats from my account area on Windsurf.com](Screenshot 2025-07-17 at 00.36.22.png) \n",
    "\n",
    "## Enter Claude Code\n",
    "\n",
    "Then I started hearing the buzz around Claude 4 - specifically, **Claude Code**.  \n",
    "\n",
    "If you’re vibe coding, drop Windsurf, Cursor, VS Code, or whatever else you’re using and try Claude Code immediately. It’s a level above the rest.  \n",
    "\n",
    "Sure, it’s an arms race - another provider could overtake them any day - but right now Claude Code is in a class of its own. And even if you’re not using it, you should read [Best Practices for Agentic Coding](https://www.anthropic.com/engineering/claude-code-best-practices) from Anthropic. It’s an eye‑opener, especially the tips on creating Markdown files with guidelines for how the agent should work.  \n",
    "\n",
    "## Amazon's new editor Kiro\n",
    "Just as I was learning how powerful planning with Markdown files can be for vibe coding, Amazon launches Kiro.\n",
    "\n",
    "It uses Claude as a default model and its \"spec mode\" helps you to work according to Anthropic's best practices. \n",
    "\n",
    "It’s a clever idea - so much so that Amazon had to impose a waiting list for the new editor.  \n",
    "\n",
    "![Kiro's spec mode encourages you to follow Claude Code best practices](kiro-screenshot.jpeg)\n",
    "\n",
    "\n",
    "## Sticking with Claude Code\n",
    "\n",
    "After trying Kiro for a few days, I realised something: Claude Code itself is simply a better agent. Even with meticulous specs, Kiro couldn’t match it.  \n",
    "\n",
    "I haven’t cancelled my Windsurf subscription yet - it’s a handy backup when I hit my Claude quota. But for my day‑to‑day vibe coding, I’m sticking with any editor that integrates smoothly with Claude Code. It’s my go‑to.\n"
   ]
  },
  {
   "cell_type": "markdown",
   "id": "7ea70929",
   "metadata": {},
   "source": []
  }
 ],
 "metadata": {
  "language_info": {
   "name": "python"
  }
 },
 "nbformat": 4,
 "nbformat_minor": 5
}
