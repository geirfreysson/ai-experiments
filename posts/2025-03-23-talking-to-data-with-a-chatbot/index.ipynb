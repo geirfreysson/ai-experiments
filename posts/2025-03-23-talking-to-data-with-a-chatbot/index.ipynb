{
 "cells": [
  {
   "cell_type": "raw",
   "id": "8cd4ce77",
   "metadata": {
    "vscode": {
     "languageId": "raw"
    }
   },
   "source": [
    "---\n",
    "title: \"Building a Fantasy Premier League Chatbot with Vibe Coding (and Tears)\"\n",
    "abstract: \"I've been having fun recently vibe coding a chatbot that can access data, in this case from the Fantasy Premier League. Spoiler: Vibe coding is both amazing and infuriating.\"\n",
    "date: \"2025-03-23\"\n",
    "draft: \"true\"\n",
    "publish: \"true\"\n",
    "image: fpl-withrobots-logo.png\n",
    "callout-appearance: simple\n",
    "categories: [agents, tools, fpl, fpl-withrobots]\n",
    "---\n"
   ]
  },
  {
   "cell_type": "markdown",
   "id": "b886cbba",
   "metadata": {},
   "source": [
    "\n",
    "<video autoplay playsinline loop muted width=\"100%\">\n",
    "  <source src=\"fpl-withrobots-blog.mp4\" type=\"video/mp4\"/>\n",
    "  Your browser does not support the video tag.\n",
    "</video>"
   ]
  },
  {
   "cell_type": "markdown",
   "id": "e4c41074",
   "metadata": {},
   "source": [
    "\n",
    "I've been having fun recently vibe coding a chatbot that can access data, in this case from the Fantasy Premier League, and fetch the exact results a users asks for.\n",
    "\n",
    "The bot uses a concept the AI world calls \"Tooling\" to fetch results and display them.\n",
    "\n",
    "You can type in queries like:\n",
    "\n",
    "> Midfielders in good form between 8-10 million\n",
    "\n",
    "It understands different languages, like:\n",
    "\n",
    "> Crazy rizz midfielders that are not too expensive\n",
    "\n",
    "> Miðjumenn í fantaformi sem eru ekki of dýrir\n",
    "\n",
    "Try it out here: [FPL With Robots](https://fpl.withrobots.ai/).\n",
    "\n",
    "I've learned a lot in the process both about vibe coding and tooling. Tooling, which was a more profound insight for me than vibe coding, will wait until the next post. Vibe coding is sexier, so we'll start with that. \n",
    "\n",
    "Spoiler: it's both amazing and infuriating.\n",
    "\n",
    "## Vibe coding - the good bits\n",
    "Vibe coding is a term [coined by Andrej Karpathy](https://x.com/karpathy/status/1886192184808149383), former director of AI at Tesla and co-founder of OpenAI. Instead of doing all the hard work of writing code, line by line, you just sit back, prompt the AI, and watch the code appear on your screen.\n",
    "\n",
    "You can vibe code by prompting Claude or ChatGPT (I prefer Claude) and copy paste the results into your code, or you can use tools like Windsurf, Cursor, Replit or Lovable, which will edit your files directly.\n",
    "\n",
    "Vibe coding is both amazing and infuriating. I got a chatbot working with FPL data in my terminal in minutes, and converted it effortlessly to using HuggingFace's Gradio web interface.  Three days in, and all I had left to do was launch.\n",
    "\n",
    "This is what my program looked like after an hour or two. Pre-AI, I would have spent days on this.\n",
    "\n",
    "<video autoplay playsinline loop muted width=\"100%\">\n",
    "  <source src=\"vibe-coding-terminal.mp4\" type=\"video/mp4\"/>\n",
    "  Your browser does not support the video tag.\n",
    "</video>\n",
    "\n",
    "## Vibe debugging - the bad bits\n",
    "This was so much fun. Then came the last 10% of the project. It took 90% of the time, and sucked out most of the joy. The calculations were wrong, Claude can't do a proper OAuth flow, Heroku would crash complaining about memory consumption and Fly.io couldn't even compile it.\n",
    "\n",
    "![Me on the first weekend of March, me during this weekend.](vibe-coding-vibe-debugging.jpeg){.img-center}\n",
    "\n",
    "I tried to make the app more memory efficient using Windsurf, which directly updates your codebase as you vibe code, but that bloated the code without solving the problem. One method was failing, but when I asked it to fix it, others would break. This continued ad infinitum, the pendulum swinging endlessly between fixing and breaking different parts of the code.\n",
    "\n",
    "I ended up rolling back the memory changes, debugging myself and launching on render.com (which I highly recommend).\n",
    "\n",
    "Then, I had Midjourney draw up a logo for me.\n",
    "\n",
    "![](fpl-withrobots-logo.png){.h100 .img-center}\n",
    "\n",
    "Try out the bot [here](https://fpl.withrobots.ai) and let me know what you think."
   ]
  }
 ],
 "metadata": {
  "language_info": {
   "name": "python"
  }
 },
 "nbformat": 4,
 "nbformat_minor": 5
}
