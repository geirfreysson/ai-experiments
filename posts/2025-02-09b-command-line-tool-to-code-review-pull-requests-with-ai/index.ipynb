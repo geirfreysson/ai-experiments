{
 "cells": [
  {
   "cell_type": "raw",
   "id": "d7c1ee20",
   "metadata": {
    "vscode": {
     "languageId": "raw"
    }
   },
   "source": [
    "---\n",
    "title: \"Command line tool to code review pull requests with AI\"\n",
    "date: \"2025-02-09\"\n",
    "draft: \"true\"\n",
    "publish: \"false\"\n",
    "callout-appearance: simple\n",
    "categories: [openai, ollama, command-line, click, python, github, llm, llm-code-review]\n",
    "---\n"
   ]
  },
  {
   "cell_type": "markdown",
   "id": "591f025b",
   "metadata": {},
   "source": [
    "Code reviews from senior developers are crucial to maintain a high quality code base, but humans are human and can overlook things.\n",
    "\n",
    "So, ignoring the risk of becoming the most annoying member of our team (or maintaining that position, who knows?) I've put together a command line tool for automatic code reviews using AI.\n",
    "\n",
    "Introducing: [llm-code-review](https://www.github.com/geirfreysson/llm-code-review)\n",
    "\n",
    "## Install\n",
    "```\n",
    "pip install llm-code-review\n",
    "```\n",
    "\n",
    "## How to use\n",
    "```\n",
    "llm-code-review [repo-owner]/[repo] [PR number]\n",
    "```\n",
    "For example:\n",
    "```\n",
    "llm-code-review simonw/click-app 10\n",
    "```"
   ]
  }
 ],
 "metadata": {
  "language_info": {
   "name": "python"
  }
 },
 "nbformat": 4,
 "nbformat_minor": 5
}
