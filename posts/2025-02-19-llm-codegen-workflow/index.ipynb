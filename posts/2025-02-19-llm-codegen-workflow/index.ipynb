{
 "cells": [
  {
   "cell_type": "raw",
   "id": "7f359836",
   "metadata": {
    "vscode": {
     "languageId": "raw"
    }
   },
   "source": [
    "---\n",
    "title: \"LLM codegen workflow\"\n",
    "date: 2025-02-19\n",
    "draft: false\n",
    "publish: true\n",
    "callout-appearance: simple\n",
    "categories: [codegen, llm, workflow]\n",
    "image: \"social-media-card.png\"\n",
    "---\n"
   ]
  },
  {
   "cell_type": "markdown",
   "id": "fe704ea7",
   "metadata": {},
   "source": [
    "Enjoyed this [blog post by Harper Reed](https://harper.blog/2025/02/16/my-llm-codegen-workflow-atm/) ([via](https://news.ycombinator.com/item?id=43094006)) where he discusses his workflow involving the usage of Language Learning Models (LLMs) in code generation. \n",
    "\n",
    "The post details Harper's process for managing code generation, codegen, for both new code (\"Greenfield\") and established code bases (\"Non-Greenfield\"). I liked how he uses planning and code spec drafting and I'm also intriguied by his use of [mise](https://github.com/geirfreysson/codegrab), which I haven't tried, and [repomix](https://github.com/yamadashy/repomix), which I wrote my own version of in Python ([codegrab](https://github.com/geirfreysson/codegrab)) because I loathe the node ecosystem.\n",
    "\n",
    "One [comment](https://news.ycombinator.com/item?id=43100348) on Hacker News also resonated with me:\n",
    "\n",
    "> LLM coding is quite well-suited to projects that apply the Unix philosophy. Highly modular systems that can be broken into small components that do one thing well.\n",
    "\n",
    "This has been bringing me lots of joy lately, modular greenfield projects that I can pipe together in the command line, Unix style, usually with the excellent package `llm` at the end of the pipe.\n",
    "\n"
   ]
  }
 ],
 "metadata": {
  "language_info": {
   "name": "python"
  }
 },
 "nbformat": 4,
 "nbformat_minor": 5
}
