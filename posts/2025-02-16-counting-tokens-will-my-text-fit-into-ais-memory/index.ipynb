{
 "cells": [
  {
   "cell_type": "raw",
   "id": "038806e3",
   "metadata": {
    "vscode": {
     "languageId": "raw"
    }
   },
   "source": [
    "---\n",
    "title: \"Counting Tokens: Will My Text Fit into AI's Memory?\"\n",
    "date: \"2025-02-16\"\n",
    "draft: false\n",
    "publish: false\n",
    "callout-appearance: simple\n",
    "categories: []\n",
    "---\n"
   ]
  },
  {
   "cell_type": "markdown",
   "id": "87c14d7b",
   "metadata": {
    "vscode": {
     "languageId": "plaintext"
    }
   },
   "source": [
    "![](context-window.png)"
   ]
  }
 ],
 "metadata": {
  "language_info": {
   "name": "python"
  }
 },
 "nbformat": 4,
 "nbformat_minor": 5
}
