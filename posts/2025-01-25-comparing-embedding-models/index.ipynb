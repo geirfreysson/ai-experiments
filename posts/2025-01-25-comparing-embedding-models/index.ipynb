{
 "cells": [
  {
   "cell_type": "raw",
   "id": "e21749af",
   "metadata": {
    "vscode": {
     "languageId": "raw"
    }
   },
   "source": [
    "---\n",
    "title: Comparing AI embedding models\n",
    "date: 2025-01-25\n",
    "callout-appearance: simple\n",
    "draft: False\n",
    "publish: True\n",
    "categories: [ollama, embedding, llama, mxbai, nomic, minilm]\n",
    "---"
   ]
  },
  {
   "cell_type": "markdown",
   "id": "dc9aff1a",
   "metadata": {},
   "source": [
    "In my last post I used Facebook's Llama for creating vector embeddings from different words and sentences. My editor, ChatGPT of course, suggested I use a model that specializes in embedding rather than Llama, which does text generation (chatting). I did, and the results are a bit surprising."
   ]
  },
  {
   "cell_type": "markdown",
   "id": "2053c8fe",
   "metadata": {},
   "source": [
    "## Choosing models and sentences"
   ]
  },
  {
   "cell_type": "markdown",
   "id": "e7bc7931",
   "metadata": {},
   "source": [
    "The models I want to compare are the Llama3.1 model I used in my previous post, and the models mentioned in Ollama's [blog post about embeddings](https://ollama.com/blog/embedding-models).\n"
   ]
  },
  {
   "cell_type": "code",
   "execution_count": 25,
   "id": "5b088eed",
   "metadata": {
    "tags": [
     "hide-code"
    ]
   },
   "outputs": [],
   "source": [
    "from sklearn.metrics.pairwise import cosine_similarity\n",
    "from langchain_ollama import OllamaEmbeddings\n",
    "import pandas as pd\n",
    "from great_tables import GT, style, loc"
   ]
  },
  {
   "cell_type": "code",
   "execution_count": 26,
   "id": "5b3d6a49",
   "metadata": {},
   "outputs": [],
   "source": [
    "models = [\n",
    "    'all-minilm',\n",
    "    'mxbai-embed-large',\n",
    "    'nomic-embed-text',\n",
    "    'llama3.1'\n",
    "]"
   ]
  },
  {
   "cell_type": "markdown",
   "id": "993db61a",
   "metadata": {},
   "source": [
    "I want to calculate the similarities between three sentences, two which sound very different but mean something similar, a person goes into politics, and one sentence which is about public transportation."
   ]
  },
  {
   "cell_type": "code",
   "execution_count": 27,
   "id": "3491a829",
   "metadata": {},
   "outputs": [],
   "source": [
    "sentences = [\n",
    "    \"The man with the tie ran for office.\",\n",
    "    \"The woman in the dress became a politician.\",\n",
    "    \"The man with the tie ran for a bus.\"\n",
    "]"
   ]
  },
  {
   "cell_type": "markdown",
   "id": "3b64951a",
   "metadata": {},
   "source": [
    "## The results"
   ]
  },
  {
   "cell_type": "markdown",
   "id": "28fb15fb",
   "metadata": {},
   "source": [
    "Next, we loop through the models and use each one of them to create a vector, and then we compare the vectors with each other to create a cosine similarity matrix. "
   ]
  },
  {
   "cell_type": "code",
   "execution_count": 30,
   "id": "17a0d25c",
   "metadata": {
    "tags": [
     "code-fold"
    ]
   },
   "outputs": [
    {
     "data": {
      "text/html": [
       "<div id=\"amttlpkixo\" style=\"padding-left:0px;padding-right:0px;padding-top:10px;padding-bottom:10px;overflow-x:auto;overflow-y:auto;width:auto;height:auto;\">\n",
       "<style>\n",
       "#amttlpkixo table {\n",
       "          font-family: -apple-system, BlinkMacSystemFont, 'Segoe UI', Roboto, Oxygen, Ubuntu, Cantarell, 'Helvetica Neue', 'Fira Sans', 'Droid Sans', Arial, sans-serif;\n",
       "          -webkit-font-smoothing: antialiased;\n",
       "          -moz-osx-font-smoothing: grayscale;\n",
       "        }\n",
       "\n",
       "#amttlpkixo thead, tbody, tfoot, tr, td, th { border-style: none !important; }\n",
       " tr { background-color: transparent !important; }\n",
       "#amttlpkixo p { margin: 0 !important; padding: 0 !important; }\n",
       " #amttlpkixo .gt_table { display: table !important; border-collapse: collapse !important; line-height: normal !important; margin-left: auto !important; margin-right: auto !important; color: #333333 !important; font-size: 16px !important; font-weight: normal !important; font-style: normal !important; background-color: #FFFFFF !important; width: auto !important; border-top-style: solid !important; border-top-width: 2px !important; border-top-color: #A8A8A8 !important; border-right-style: none !important; border-right-width: 2px !important; border-right-color: #D3D3D3 !important; border-bottom-style: solid !important; border-bottom-width: 2px !important; border-bottom-color: #A8A8A8 !important; border-left-style: none !important; border-left-width: 2px !important; border-left-color: #D3D3D3 !important; }\n",
       " #amttlpkixo .gt_caption { padding-top: 4px !important; padding-bottom: 4px !important; }\n",
       " #amttlpkixo .gt_title { color: #333333 !important; font-size: 125% !important; font-weight: initial !important; padding-top: 4px !important; padding-bottom: 4px !important; padding-left: 5px !important; padding-right: 5px !important; border-bottom-color: #FFFFFF !important; border-bottom-width: 0 !important; }\n",
       " #amttlpkixo .gt_subtitle { color: #333333 !important; font-size: 85% !important; font-weight: initial !important; padding-top: 3px !important; padding-bottom: 5px !important; padding-left: 5px !important; padding-right: 5px !important; border-top-color: #FFFFFF !important; border-top-width: 0 !important; }\n",
       " #amttlpkixo .gt_heading { background-color: #FFFFFF !important; text-align: center !important; border-bottom-color: #FFFFFF !important; border-left-style: none !important; border-left-width: 1px !important; border-left-color: #D3D3D3 !important; border-right-style: none !important; border-right-width: 1px !important; border-right-color: #D3D3D3 !important; }\n",
       " #amttlpkixo .gt_bottom_border { border-bottom-style: solid !important; border-bottom-width: 2px !important; border-bottom-color: #D3D3D3 !important; }\n",
       " #amttlpkixo .gt_col_headings { border-top-style: solid !important; border-top-width: 2px !important; border-top-color: #D3D3D3 !important; border-bottom-style: solid !important; border-bottom-width: 2px !important; border-bottom-color: #D3D3D3 !important; border-left-style: none !important; border-left-width: 1px !important; border-left-color: #D3D3D3 !important; border-right-style: none !important; border-right-width: 1px !important; border-right-color: #D3D3D3 !important; }\n",
       " #amttlpkixo .gt_col_heading { color: #333333 !important; background-color: #FFFFFF !important; font-size: 100% !important; font-weight: normal !important; text-transform: inherit !important; border-left-style: none !important; border-left-width: 1px !important; border-left-color: #D3D3D3 !important; border-right-style: none !important; border-right-width: 1px !important; border-right-color: #D3D3D3 !important; vertical-align: bottom !important; padding-top: 5px !important; padding-bottom: 5px !important; padding-left: 5px !important; padding-right: 5px !important; overflow-x: hidden !important; }\n",
       " #amttlpkixo .gt_column_spanner_outer { color: #333333 !important; background-color: #FFFFFF !important; font-size: 100% !important; font-weight: normal !important; text-transform: inherit !important; padding-top: 0 !important; padding-bottom: 0 !important; padding-left: 4px !important; padding-right: 4px !important; }\n",
       " #amttlpkixo .gt_column_spanner_outer:first-child { padding-left: 0 !important; }\n",
       " #amttlpkixo .gt_column_spanner_outer:last-child { padding-right: 0 !important; }\n",
       " #amttlpkixo .gt_column_spanner { border-bottom-style: solid !important; border-bottom-width: 2px !important; border-bottom-color: #D3D3D3 !important; vertical-align: bottom !important; padding-top: 5px !important; padding-bottom: 5px !important; overflow-x: hidden !important; display: inline-block !important; width: 100% !important; }\n",
       " #amttlpkixo .gt_spanner_row { border-bottom-style: hidden !important; }\n",
       " #amttlpkixo .gt_group_heading { padding-top: 8px !important; padding-bottom: 8px !important; padding-left: 5px !important; padding-right: 5px !important; color: #333333 !important; background-color: #FFFFFF !important; font-size: 100% !important; font-weight: initial !important; text-transform: inherit !important; border-top-style: solid !important; border-top-width: 2px !important; border-top-color: #D3D3D3 !important; border-bottom-style: solid !important; border-bottom-width: 2px !important; border-bottom-color: #D3D3D3 !important; border-left-style: none !important; border-left-width: 1px !important; border-left-color: #D3D3D3 !important; border-right-style: none !important; border-right-width: 1px !important; border-right-color: #D3D3D3 !important; vertical-align: middle !important; text-align: left !important; }\n",
       " #amttlpkixo .gt_empty_group_heading { padding: 0.5px !important; color: #333333 !important; background-color: #FFFFFF !important; font-size: 100% !important; font-weight: initial !important; border-top-style: solid !important; border-top-width: 2px !important; border-top-color: #D3D3D3 !important; border-bottom-style: solid !important; border-bottom-width: 2px !important; border-bottom-color: #D3D3D3 !important; vertical-align: middle !important; }\n",
       " #amttlpkixo .gt_from_md> :first-child { margin-top: 0 !important; }\n",
       " #amttlpkixo .gt_from_md> :last-child { margin-bottom: 0 !important; }\n",
       " #amttlpkixo .gt_row { padding-top: 8px !important; padding-bottom: 8px !important; padding-left: 5px !important; padding-right: 5px !important; margin: 10px !important; border-top-style: solid !important; border-top-width: 1px !important; border-top-color: #D3D3D3 !important; border-left-style: none !important; border-left-width: 1px !important; border-left-color: #D3D3D3 !important; border-right-style: none !important; border-right-width: 1px !important; border-right-color: #D3D3D3 !important; vertical-align: middle !important; overflow-x: hidden !important; }\n",
       " #amttlpkixo .gt_stub { color: #333333 !important; background-color: #FFFFFF !important; font-size: 100% !important; font-weight: initial !important; text-transform: inherit !important; border-right-style: solid !important; border-right-width: 2px !important; border-right-color: #D3D3D3 !important; padding-left: 5px !important; padding-right: 5px !important; }\n",
       " #amttlpkixo .gt_stub_row_group { color: #333333 !important; background-color: #FFFFFF !important; font-size: 100% !important; font-weight: initial !important; text-transform: inherit !important; border-right-style: solid !important; border-right-width: 2px !important; border-right-color: #D3D3D3 !important; padding-left: 5px !important; padding-right: 5px !important; vertical-align: top !important; }\n",
       " #amttlpkixo .gt_row_group_first td { border-top-width: 2px !important; }\n",
       " #amttlpkixo .gt_row_group_first th { border-top-width: 2px !important; }\n",
       " #amttlpkixo .gt_striped { background-color: rgba(128,128,128,0.05) !important; }\n",
       " #amttlpkixo .gt_table_body { border-top-style: solid !important; border-top-width: 2px !important; border-top-color: #D3D3D3 !important; border-bottom-style: solid !important; border-bottom-width: 2px !important; border-bottom-color: #D3D3D3 !important; }\n",
       " #amttlpkixo .gt_sourcenotes { color: #333333 !important; background-color: #FFFFFF !important; border-bottom-style: none !important; border-bottom-width: 2px !important; border-bottom-color: #D3D3D3 !important; border-left-style: none !important; border-left-width: 2px !important; border-left-color: #D3D3D3 !important; border-right-style: none !important; border-right-width: 2px !important; border-right-color: #D3D3D3 !important; }\n",
       " #amttlpkixo .gt_sourcenote { font-size: 90% !important; padding-top: 4px !important; padding-bottom: 4px !important; padding-left: 5px !important; padding-right: 5px !important; text-align: left !important; }\n",
       " #amttlpkixo .gt_left { text-align: left !important; }\n",
       " #amttlpkixo .gt_center { text-align: center !important; }\n",
       " #amttlpkixo .gt_right { text-align: right !important; font-variant-numeric: tabular-nums !important; }\n",
       " #amttlpkixo .gt_font_normal { font-weight: normal !important; }\n",
       " #amttlpkixo .gt_font_bold { font-weight: bold !important; }\n",
       " #amttlpkixo .gt_font_italic { font-style: italic !important; }\n",
       " #amttlpkixo .gt_super { font-size: 65% !important; }\n",
       " #amttlpkixo .gt_footnote_marks { font-size: 75% !important; vertical-align: 0.4em !important; position: initial !important; }\n",
       " #amttlpkixo .gt_asterisk { font-size: 100% !important; vertical-align: 0 !important; }\n",
       " \n",
       "</style>\n",
       "<table class=\"gt_table\" data-quarto-disable-processing=\"false\" data-quarto-bootstrap=\"false\">\n",
       "<thead>\n",
       "\n",
       "  <tr class=\"gt_heading\">\n",
       "    <td colspan=\"6\" class=\"gt_heading gt_title gt_font_normal\">Cosine similarities between First and Second phrases</td>\n",
       "  </tr>\n",
       "<tr class=\"gt_col_headings gt_spanner_row\">\n",
       "  <th class=\"gt_col_heading gt_columns_bottom_border gt_left\" rowspan=\"2\" colspan=\"1\" scope=\"col\" id=\"First\">First</th>\n",
       "  <th class=\"gt_col_heading gt_columns_bottom_border gt_left\" rowspan=\"2\" colspan=\"1\" scope=\"col\" id=\"Second\">Second</th>\n",
       "  <th class=\"gt_center gt_columns_top_border gt_column_spanner_outer\" rowspan=\"1\" colspan=\"4\" scope=\"colgroup\" id=\"model\">\n",
       "    <span class=\"gt_column_spanner\">model</span>\n",
       "  </th>\n",
       "</tr>\n",
       "<tr class=\"gt_col_headings\">\n",
       "  <th class=\"gt_col_heading gt_columns_bottom_border gt_right\" rowspan=\"1\" colspan=\"1\" scope=\"col\" id=\"all-minilm\">all-minilm</th>\n",
       "  <th class=\"gt_col_heading gt_columns_bottom_border gt_right\" rowspan=\"1\" colspan=\"1\" scope=\"col\" id=\"mxbai-embed-large\">mxbai-embed-large</th>\n",
       "  <th class=\"gt_col_heading gt_columns_bottom_border gt_right\" rowspan=\"1\" colspan=\"1\" scope=\"col\" id=\"nomic-embed-text\">nomic-embed-text</th>\n",
       "  <th class=\"gt_col_heading gt_columns_bottom_border gt_right\" rowspan=\"1\" colspan=\"1\" scope=\"col\" id=\"llama3.1\">llama3.1</th>\n",
       "</tr>\n",
       "</thead>\n",
       "<tbody class=\"gt_table_body\">\n",
       "  <tr>\n",
       "    <td class=\"gt_row gt_left\">The woman in the dress became a politician.</td>\n",
       "    <td class=\"gt_row gt_left\">The man with the tie ran for office.</td>\n",
       "    <td class=\"gt_row gt_right\">0.29</td>\n",
       "    <td class=\"gt_row gt_right\">0.59</td>\n",
       "    <td class=\"gt_row gt_right\">0.64</td>\n",
       "    <td style=\"background-color: lightgreen;\" class=\"gt_row gt_right\">0.91</td>\n",
       "  </tr>\n",
       "  <tr>\n",
       "    <td class=\"gt_row gt_left\">The man with the tie ran for a bus.</td>\n",
       "    <td class=\"gt_row gt_left\">The man with the tie ran for office.</td>\n",
       "    <td style=\"background-color: lightgreen;\" class=\"gt_row gt_right\">0.64</td>\n",
       "    <td style=\"background-color: lightgreen;\" class=\"gt_row gt_right\">0.69</td>\n",
       "    <td style=\"background-color: lightgreen;\" class=\"gt_row gt_right\">0.84</td>\n",
       "    <td class=\"gt_row gt_right\">0.87</td>\n",
       "  </tr>\n",
       "  <tr>\n",
       "    <td class=\"gt_row gt_left\">The man with the tie ran for a bus.</td>\n",
       "    <td class=\"gt_row gt_left\">The woman in the dress became a politician.</td>\n",
       "    <td class=\"gt_row gt_right\">0.09</td>\n",
       "    <td class=\"gt_row gt_right\">0.31</td>\n",
       "    <td class=\"gt_row gt_right\">0.5</td>\n",
       "    <td class=\"gt_row gt_right\">0.85</td>\n",
       "  </tr>\n",
       "</tbody>\n",
       "\n",
       "\n",
       "</table>\n",
       "\n",
       "</div>\n",
       "        "
      ],
      "text/plain": [
       "GT(_tbl_data=                                         First  \\\n",
       "3  The woman in the dress became a politician.   \n",
       "6          The man with the tie ran for a bus.   \n",
       "7          The man with the tie ran for a bus.   \n",
       "\n",
       "                                        Second  all-minilm  mxbai-embed-large  \\\n",
       "3         The man with the tie ran for office.        0.29               0.59   \n",
       "6         The man with the tie ran for office.        0.64               0.69   \n",
       "7  The woman in the dress became a politician.        0.09               0.31   \n",
       "\n",
       "   nomic-embed-text  llama3.1  \n",
       "3              0.64      0.91  \n",
       "6              0.84      0.87  \n",
       "7              0.50      0.85  , _body=<great_tables._gt_data.Body object at 0x13bb76c60>, _boxhead=Boxhead([ColInfo(var='First', type=<ColInfoTypeEnum.default: 1>, column_label='First', column_align='left', column_width=None), ColInfo(var='Second', type=<ColInfoTypeEnum.default: 1>, column_label='Second', column_align='left', column_width=None), ColInfo(var='all-minilm', type=<ColInfoTypeEnum.default: 1>, column_label='all-minilm', column_align='right', column_width=None), ColInfo(var='mxbai-embed-large', type=<ColInfoTypeEnum.default: 1>, column_label='mxbai-embed-large', column_align='right', column_width=None), ColInfo(var='nomic-embed-text', type=<ColInfoTypeEnum.default: 1>, column_label='nomic-embed-text', column_align='right', column_width=None), ColInfo(var='llama3.1', type=<ColInfoTypeEnum.default: 1>, column_label='llama3.1', column_align='right', column_width=None)]), _stub=<great_tables._gt_data.Stub object at 0x10682bf80>, _spanners=Spanners([SpannerInfo(spanner_id='model', spanner_level=0, spanner_label='model', spanner_units=None, spanner_pattern=None, vars=['all-minilm', 'mxbai-embed-large', 'nomic-embed-text', 'llama3.1'], built=None)]), _heading=Heading(title='Cosine similarities between First and Second phrases', subtitle=None, preheader=None), _stubhead=None, _source_notes=[], _footnotes=[], _styles=[StyleInfo(locname=LocBody(columns=[2, 3, 4], rows=[1]), grpname=None, colname='all-minilm', rownum=1, colnum=None, styles=[CellStyleFill(color='lightgreen')]), StyleInfo(locname=LocBody(columns=[2, 3, 4], rows=[1]), grpname=None, colname='mxbai-embed-large', rownum=1, colnum=None, styles=[CellStyleFill(color='lightgreen')]), StyleInfo(locname=LocBody(columns=[2, 3, 4], rows=[1]), grpname=None, colname='nomic-embed-text', rownum=1, colnum=None, styles=[CellStyleFill(color='lightgreen')]), StyleInfo(locname=LocBody(columns=[5], rows=[0]), grpname=None, colname='llama3.1', rownum=0, colnum=None, styles=[CellStyleFill(color='lightgreen')])], _locale=<great_tables._gt_data.Locale object at 0x13bb75d90>, _formats=[], _substitutions=[], _options=Options(table_id=OptionsInfo(scss=False, category='table', type='value', value=None), table_caption=OptionsInfo(scss=False, category='table', type='value', value=None), table_width=OptionsInfo(scss=True, category='table', type='px', value='auto'), table_layout=OptionsInfo(scss=True, category='table', type='value', value='fixed'), table_margin_left=OptionsInfo(scss=True, category='table', type='px', value='auto'), table_margin_right=OptionsInfo(scss=True, category='table', type='px', value='auto'), table_background_color=OptionsInfo(scss=True, category='table', type='value', value='#FFFFFF'), table_additional_css=OptionsInfo(scss=False, category='table', type='values', value=[]), table_font_names=OptionsInfo(scss=False, category='table', type='values', value=['-apple-system', 'BlinkMacSystemFont', 'Segoe UI', 'Roboto', 'Oxygen', 'Ubuntu', 'Cantarell', 'Helvetica Neue', 'Fira Sans', 'Droid Sans', 'Arial', 'sans-serif']), table_font_size=OptionsInfo(scss=True, category='table', type='px', value='16px'), table_font_weight=OptionsInfo(scss=True, category='table', type='value', value='normal'), table_font_style=OptionsInfo(scss=True, category='table', type='value', value='normal'), table_font_color=OptionsInfo(scss=True, category='table', type='value', value='#333333'), table_font_color_light=OptionsInfo(scss=True, category='table', type='value', value='#FFFFFF'), table_border_top_include=OptionsInfo(scss=False, category='table', type='boolean', value=True), table_border_top_style=OptionsInfo(scss=True, category='table', type='value', value='solid'), table_border_top_width=OptionsInfo(scss=True, category='table', type='px', value='2px'), table_border_top_color=OptionsInfo(scss=True, category='table', type='value', value='#A8A8A8'), table_border_right_style=OptionsInfo(scss=True, category='table', type='value', value='none'), table_border_right_width=OptionsInfo(scss=True, category='table', type='px', value='2px'), table_border_right_color=OptionsInfo(scss=True, category='table', type='value', value='#D3D3D3'), table_border_bottom_include=OptionsInfo(scss=False, category='table', type='boolean', value=True), table_border_bottom_style=OptionsInfo(scss=True, category='table', type='value', value='solid'), table_border_bottom_width=OptionsInfo(scss=True, category='table', type='px', value='2px'), table_border_bottom_color=OptionsInfo(scss=True, category='table', type='value', value='#A8A8A8'), table_border_left_style=OptionsInfo(scss=True, category='table', type='value', value='none'), table_border_left_width=OptionsInfo(scss=True, category='table', type='px', value='2px'), table_border_left_color=OptionsInfo(scss=True, category='table', type='value', value='#D3D3D3'), heading_background_color=OptionsInfo(scss=True, category='heading', type='value', value=None), heading_align=OptionsInfo(scss=True, category='heading', type='value', value='center'), heading_title_font_size=OptionsInfo(scss=True, category='heading', type='px', value='125%'), heading_title_font_weight=OptionsInfo(scss=True, category='heading', type='value', value='initial'), heading_subtitle_font_size=OptionsInfo(scss=True, category='heading', type='px', value='85%'), heading_subtitle_font_weight=OptionsInfo(scss=True, category='heading', type='value', value='initial'), heading_padding=OptionsInfo(scss=True, category='heading', type='px', value='4px'), heading_padding_horizontal=OptionsInfo(scss=True, category='heading', type='px', value='5px'), heading_border_bottom_style=OptionsInfo(scss=True, category='heading', type='value', value='solid'), heading_border_bottom_width=OptionsInfo(scss=True, category='heading', type='px', value='2px'), heading_border_bottom_color=OptionsInfo(scss=True, category='heading', type='value', value='#D3D3D3'), heading_border_lr_style=OptionsInfo(scss=True, category='heading', type='value', value='none'), heading_border_lr_width=OptionsInfo(scss=True, category='heading', type='px', value='1px'), heading_border_lr_color=OptionsInfo(scss=True, category='heading', type='value', value='#D3D3D3'), column_labels_background_color=OptionsInfo(scss=True, category='column_labels', type='value', value=None), column_labels_font_size=OptionsInfo(scss=True, category='column_labels', type='px', value='100%'), column_labels_font_weight=OptionsInfo(scss=True, category='column_labels', type='value', value='normal'), column_labels_text_transform=OptionsInfo(scss=True, category='column_labels', type='value', value='inherit'), column_labels_padding=OptionsInfo(scss=True, category='column_labels', type='px', value='5px'), column_labels_padding_horizontal=OptionsInfo(scss=True, category='column_labels', type='px', value='5px'), column_labels_vlines_style=OptionsInfo(scss=True, category='table_body', type='value', value='none'), column_labels_vlines_width=OptionsInfo(scss=True, category='table_body', type='px', value='1px'), column_labels_vlines_color=OptionsInfo(scss=True, category='table_body', type='value', value='#D3D3D3'), column_labels_border_top_style=OptionsInfo(scss=True, category='column_labels', type='value', value='solid'), column_labels_border_top_width=OptionsInfo(scss=True, category='column_labels', type='px', value='2px'), column_labels_border_top_color=OptionsInfo(scss=True, category='column_labels', type='value', value='#D3D3D3'), column_labels_border_bottom_style=OptionsInfo(scss=True, category='column_labels', type='value', value='solid'), column_labels_border_bottom_width=OptionsInfo(scss=True, category='column_labels', type='px', value='2px'), column_labels_border_bottom_color=OptionsInfo(scss=True, category='column_labels', type='value', value='#D3D3D3'), column_labels_border_lr_style=OptionsInfo(scss=True, category='column_labels', type='value', value='none'), column_labels_border_lr_width=OptionsInfo(scss=True, category='column_labels', type='px', value='1px'), column_labels_border_lr_color=OptionsInfo(scss=True, category='column_labels', type='value', value='#D3D3D3'), column_labels_hidden=OptionsInfo(scss=False, category='column_labels', type='boolean', value=False), row_group_background_color=OptionsInfo(scss=True, category='row_group', type='value', value=None), row_group_font_size=OptionsInfo(scss=True, category='row_group', type='px', value='100%'), row_group_font_weight=OptionsInfo(scss=True, category='row_group', type='value', value='initial'), row_group_text_transform=OptionsInfo(scss=True, category='row_group', type='value', value='inherit'), row_group_padding=OptionsInfo(scss=True, category='row_group', type='px', value='8px'), row_group_padding_horizontal=OptionsInfo(scss=True, category='row_group', type='px', value='5px'), row_group_border_top_style=OptionsInfo(scss=True, category='row_group', type='value', value='solid'), row_group_border_top_width=OptionsInfo(scss=True, category='row_group', type='px', value='2px'), row_group_border_top_color=OptionsInfo(scss=True, category='row_group', type='value', value='#D3D3D3'), row_group_border_right_style=OptionsInfo(scss=True, category='row_group', type='value', value='none'), row_group_border_right_width=OptionsInfo(scss=True, category='row_group', type='px', value='1px'), row_group_border_right_color=OptionsInfo(scss=True, category='row_group', type='value', value='#D3D3D3'), row_group_border_bottom_style=OptionsInfo(scss=True, category='row_group', type='value', value='solid'), row_group_border_bottom_width=OptionsInfo(scss=True, category='row_group', type='px', value='2px'), row_group_border_bottom_color=OptionsInfo(scss=True, category='row_group', type='value', value='#D3D3D3'), row_group_border_left_style=OptionsInfo(scss=True, category='row_group', type='value', value='none'), row_group_border_left_width=OptionsInfo(scss=True, category='row_group', type='px', value='1px'), row_group_border_left_color=OptionsInfo(scss=True, category='row_group', type='value', value='#D3D3D3'), row_group_as_column=OptionsInfo(scss=False, category='row_group', type='boolean', value=False), table_body_hlines_style=OptionsInfo(scss=True, category='table_body', type='value', value='solid'), table_body_hlines_width=OptionsInfo(scss=True, category='table_body', type='px', value='1px'), table_body_hlines_color=OptionsInfo(scss=True, category='table_body', type='value', value='#D3D3D3'), table_body_vlines_style=OptionsInfo(scss=True, category='table_body', type='value', value='none'), table_body_vlines_width=OptionsInfo(scss=True, category='table_body', type='px', value='1px'), table_body_vlines_color=OptionsInfo(scss=True, category='table_body', type='value', value='#D3D3D3'), table_body_border_top_style=OptionsInfo(scss=True, category='table_body', type='value', value='solid'), table_body_border_top_width=OptionsInfo(scss=True, category='table_body', type='px', value='2px'), table_body_border_top_color=OptionsInfo(scss=True, category='table_body', type='value', value='#D3D3D3'), table_body_border_bottom_style=OptionsInfo(scss=True, category='table_body', type='value', value='solid'), table_body_border_bottom_width=OptionsInfo(scss=True, category='table_body', type='px', value='2px'), table_body_border_bottom_color=OptionsInfo(scss=True, category='table_body', type='value', value='#D3D3D3'), data_row_padding=OptionsInfo(scss=True, category='data_row', type='px', value='8px'), data_row_padding_horizontal=OptionsInfo(scss=True, category='data_row', type='px', value='5px'), stub_background_color=OptionsInfo(scss=True, category='stub', type='value', value=None), stub_font_size=OptionsInfo(scss=True, category='stub', type='px', value='100%'), stub_font_weight=OptionsInfo(scss=True, category='stub', type='value', value='initial'), stub_text_transform=OptionsInfo(scss=True, category='stub', type='value', value='inherit'), stub_border_style=OptionsInfo(scss=True, category='stub', type='value', value='solid'), stub_border_width=OptionsInfo(scss=True, category='stub', type='px', value='2px'), stub_border_color=OptionsInfo(scss=True, category='stub', type='value', value='#D3D3D3'), stub_row_group_background_color=OptionsInfo(scss=True, category='stub', type='value', value=None), stub_row_group_font_size=OptionsInfo(scss=True, category='stub', type='px', value='100%'), stub_row_group_font_weight=OptionsInfo(scss=True, category='stub', type='value', value='initial'), stub_row_group_text_transform=OptionsInfo(scss=True, category='stub', type='value', value='inherit'), stub_row_group_border_style=OptionsInfo(scss=True, category='stub', type='value', value='solid'), stub_row_group_border_width=OptionsInfo(scss=True, category='stub', type='px', value='2px'), stub_row_group_border_color=OptionsInfo(scss=True, category='stub', type='value', value='#D3D3D3'), source_notes_padding=OptionsInfo(scss=True, category='source_notes', type='px', value='4px'), source_notes_padding_horizontal=OptionsInfo(scss=True, category='source_notes', type='px', value='5px'), source_notes_background_color=OptionsInfo(scss=True, category='source_notes', type='value', value=None), source_notes_font_size=OptionsInfo(scss=True, category='source_notes', type='px', value='90%'), source_notes_border_bottom_style=OptionsInfo(scss=True, category='source_notes', type='value', value='none'), source_notes_border_bottom_width=OptionsInfo(scss=True, category='source_notes', type='px', value='2px'), source_notes_border_bottom_color=OptionsInfo(scss=True, category='source_notes', type='value', value='#D3D3D3'), source_notes_border_lr_style=OptionsInfo(scss=True, category='source_notes', type='value', value='none'), source_notes_border_lr_width=OptionsInfo(scss=True, category='source_notes', type='px', value='2px'), source_notes_border_lr_color=OptionsInfo(scss=True, category='source_notes', type='value', value='#D3D3D3'), source_notes_multiline=OptionsInfo(scss=False, category='source_notes', type='boolean', value=True), source_notes_sep=OptionsInfo(scss=False, category='source_notes', type='value', value=' '), row_striping_background_color=OptionsInfo(scss=True, category='row', type='value', value='rgba(128,128,128,0.05)'), row_striping_include_stub=OptionsInfo(scss=False, category='row', type='boolean', value=False), row_striping_include_table_body=OptionsInfo(scss=False, category='row', type='boolean', value=False), container_width=OptionsInfo(scss=False, category='container', type='px', value='auto'), container_height=OptionsInfo(scss=False, category='container', type='px', value='auto'), container_padding_x=OptionsInfo(scss=False, category='container', type='px', value='0px'), container_padding_y=OptionsInfo(scss=False, category='container', type='px', value='10px'), container_overflow_x=OptionsInfo(scss=False, category='container', type='overflow', value='auto'), container_overflow_y=OptionsInfo(scss=False, category='container', type='overflow', value='auto'), quarto_disable_processing=OptionsInfo(scss=False, category='quarto', type='logical', value=False), quarto_use_bootstrap=OptionsInfo(scss=False, category='quarto', type='logical', value=False)), _has_built=False)"
      ]
     },
     "execution_count": 30,
     "metadata": {},
     "output_type": "execute_result"
    }
   ],
   "source": [
    "#| code-fold: true\n",
    "#| code-summary: \"Show the code\"\n",
    "\n",
    "def compare_words(words, embeddings, model_name):\n",
    "    vectors = []\n",
    "    for s in words:\n",
    "        vectors.append(embeddings.embed_query(s))\n",
    "    matrix = cosine_similarity(vectors)\n",
    "    df = (\n",
    "        pd.DataFrame(matrix)\n",
    "        .stack()\n",
    "        .reset_index()\n",
    "        .query(\"level_0 > level_1\")\n",
    "        .replace({\"level_0\": dict(enumerate(words)), \"level_1\": dict(enumerate(words))})\n",
    "        .rename(columns={\"level_0\": \"First\", \"level_1\": \"Second\", 0: model_name.split(\"/\")[-1]})\n",
    "        .round(2)\n",
    "    )\n",
    "    return df\n",
    "\n",
    "results = []\n",
    "for m in models:\n",
    "    embeddings = OllamaEmbeddings(model=m)\n",
    "    results.append(compare_words(sentences, embeddings=embeddings, model_name=m))\n",
    "\n",
    "result = pd.concat([results[0], results[1].iloc[:,-1].to_frame(), results[2].iloc[:,-1].to_frame(), results[3].iloc[:,-1].to_frame()], axis=1)\n",
    "GT(\n",
    "    result\n",
    ").tab_header(\n",
    "    \"Cosine similarities between First and Second phrases\"\n",
    ").tab_spanner(\n",
    "    label=\"model\", \n",
    "    columns=[2,3,4,5]\n",
    ").tab_style(\n",
    "        style=style.fill(color=\"lightgreen\"), locations=[loc.body(columns=[2,3,4], rows=[1])]\n",
    ").tab_style(\n",
    "    style=style.fill(color=\"lightgreen\"), locations=loc.body(columns=[5], rows=[0])\n",
    ")\n"
   ]
  },
  {
   "cell_type": "markdown",
   "id": "38bfa31f",
   "metadata": {},
   "source": [
    "Llama is the only model that correctly identifies the man and woman going into politics as more similar to each other than the two men with the ties (one running for a bus and the other for office.)\n",
    "\n",
    "My takeaways are: \n",
    "\n",
    "- If I were creating a semantic search, Llama would show me the correct result at the top.\n",
    "- However, Llama's representation of a man running for a bus and a woman becoming a politician are quite close, so maybe I just lucked out.\n",
    "- nomic-embed-text has the second highest score for the politicians being similar."
   ]
  },
  {
   "cell_type": "markdown",
   "id": "5e61fe39",
   "metadata": {},
   "source": [
    "So, which model is the best one for embedding. The answer is probably: it depends. Sigh."
   ]
  },
  {
   "cell_type": "markdown",
   "id": "325ffe89",
   "metadata": {},
   "source": []
  }
 ],
 "metadata": {
  "kernelspec": {
   "display_name": ".venv",
   "language": "python",
   "name": "python3"
  },
  "language_info": {
   "codemirror_mode": {
    "name": "ipython",
    "version": 3
   },
   "file_extension": ".py",
   "mimetype": "text/x-python",
   "name": "python",
   "nbconvert_exporter": "python",
   "pygments_lexer": "ipython3",
   "version": "3.12.4"
  }
 },
 "nbformat": 4,
 "nbformat_minor": 5
}
