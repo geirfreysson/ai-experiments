{
 "cells": [
  {
   "cell_type": "raw",
   "id": "afc5bebe",
   "metadata": {
    "vscode": {
     "languageId": "raw"
    }
   },
   "source": [
    "---\n",
    "title: \"FPL With Robots v2\"\n",
    "date: \"2025-08-10\"\n",
    "draft: false\n",
    "publish: true\n",
    "abstract: I updated my FPL chatbot so it is now a proper agent. It uses Huggingface's smolagents, assistant-ui for the backend and ChatGPT to power the AI bit.\n",
    "image: \"\" \n",
    "callout-appearance: simple\n",
    "categories: [FPL, AI Agents, smolagents, huggingface, openai]\n",
    "---\n",
    "<video autoplay playsinline loop muted width=\"100%\">\n",
    "  <source src=\"fpl-with-robots-blog-post-v2.mp4\" type=\"video/mp4\"/>\n",
    "  Your browser does not support the video tag.\n",
    "</video>\n",
    "\n",
    "[FPL With Robots](https://fpl.withrobots.ai) is an AI agent with direct access to the latest Fantasy Premier League data. \n",
    "It's an update on the first agent I ever wrote, the original FPL chatbot ([more on that here](https://geirfreysson.com/posts/2025-03-23-talking-to-data-with-a-chatbot/index.html)).\n",
    "\n",
    "## Questions you can ask\n",
    "The bot can answer questions using all official FPL stats - player data, team stats, and match results. \n",
    "\n",
    "You can ask it questions like:\n",
    "\n",
    "- \"Who should I captain this week?\"\n",
    "- \"Over the next 5 gameweeks, who has easy fixtures while Mitoma has hard ones?\"\n",
    "- \"List 10 defenders under £5.5M likely to score or assist.\"\n",
    "\n",
    "\n",
    "## Can't I just use ChatGPT?\n",
    "While ChatGPT powers FPL With Robots, ChatGPT on its own doesn’t have live FPL data. \n",
    "It has to guess (usually by Googling), which can lead to outdated or wrong answers.\n",
    "\n",
    "::: {layout-ncol=3}\n",
    "![Chat GPT](xg from chat gpt.png)\n",
    "\n",
    "![FPL With Robots](xg from FPL with robots.png)\n",
    "\n",
    "![Official data](official data.png)\n",
    "::: \n",
    "\n",
    "The screenshots above show Premier Leage data and the answer ChatGPT and FPL With Robots give to the same question about expected goals (xG) for players.\n",
    "\n",
    "> Who has easier fixtures and higher xG, Salah or Haaland? \n",
    "\n",
    "ChatGPT gives the wrong answer, because it must have hit on an old article in its googling that is not up to date.\n",
    "\n",
    "## Is it free?\n",
    "Yes, FPL With Robots is free to use. Every 10 message you send, you'll be encouraged to buy me a beer, and if everyone ignores that I might set up a paywall (or just close it down for the public!).\n",
    "\n",
    "## How it works (technical details)\n",
    "FPL With Robots is builts using the [smolagents](https://huggingface.co/docs/smolagents/en/index) framework from Huggingface. It is the most light-weight, unobtrusive framework I could find\n",
    "for building AI Agents.\n",
    "\n",
    "For the front-end it uses [assistant-ui](https://www.assistant-ui.com/), a typescript/react library for building chatbots.\n",
    "\n",
    "If you want to build an agent of your own, you can use my [template repository](https://github.com/geirfreysson/smolagents-template) which hooks smolagents into assistant-ui. You just have to clone the repo and provide the agent with tools.\n",
    "\n"
   ]
  }
 ],
 "metadata": {
  "language_info": {
   "name": "python"
  }
 },
 "nbformat": 4,
 "nbformat_minor": 5
}
